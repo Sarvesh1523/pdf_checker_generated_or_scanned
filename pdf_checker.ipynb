{
 "cells": [
  {
   "cell_type": "code",
   "execution_count": 1,
   "metadata": {},
   "outputs": [
    {
     "name": "stdout",
     "output_type": "stream",
     "text": [
      "Document 'file_1.pdf' has 5 page(s). Complete document is searchable or converted\n",
      "Document 'file_2.pdf' has 2 page(s). Complete document is non-searchable or scanned\n"
     ]
    }
   ],
   "source": [
    "def get_pdf_searchable_pages(fname):\n",
    "    # pip install pdfminer\n",
    "    from pdfminer.pdfpage import PDFPage\n",
    "    searchable_pages = []\n",
    "    non_searchable_pages = []\n",
    "    page_num = 0\n",
    "    with open(fname, 'rb') as infile:\n",
    "\n",
    "        for page in PDFPage.get_pages(infile):\n",
    "            page_num += 1\n",
    "            if 'Font' in page.resources.keys():\n",
    "                searchable_pages.append(page_num)\n",
    "            else:\n",
    "                non_searchable_pages.append(page_num)\n",
    "    if page_num > 0:\n",
    "        if len(searchable_pages) == 0:\n",
    "            print(f\"Document '{fname}' has {page_num} page(s). \"\n",
    "                  f\"Complete document is non-searchable or scanned\")\n",
    "        elif len(non_searchable_pages) == 0:\n",
    "            print(f\"Document '{fname}' has {page_num} page(s). \"\n",
    "                  f\"Complete document is searchable or converted\")\n",
    "        else:\n",
    "            print(f\"searchable_pages : {searchable_pages}\")\n",
    "            print(f\"non_searchable_pages : {non_searchable_pages}\")\n",
    "    else:\n",
    "        print(f\"Not a valid document\")\n",
    "\n",
    "\n",
    "if __name__ == '__main__':\n",
    "    get_pdf_searchable_pages(\"file_1.pdf\")\n",
    "    get_pdf_searchable_pages(\"file_2.pdf\")"
   ]
  },
  {
   "cell_type": "code",
   "execution_count": null,
   "metadata": {},
   "outputs": [],
   "source": []
  }
 ],
 "metadata": {
  "kernelspec": {
   "display_name": "Python 3",
   "language": "python",
   "name": "python3"
  },
  "language_info": {
   "codemirror_mode": {
    "name": "ipython",
    "version": 3
   },
   "file_extension": ".py",
   "mimetype": "text/x-python",
   "name": "python",
   "nbconvert_exporter": "python",
   "pygments_lexer": "ipython3",
   "version": "3.7.6"
  }
 },
 "nbformat": 4,
 "nbformat_minor": 4
}
